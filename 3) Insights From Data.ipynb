{
 "cells": [
  {
   "cell_type": "code",
   "execution_count": 1,
   "id": "ba7cceec",
   "metadata": {},
   "outputs": [],
   "source": [
    "import pandas as pd\n",
    "import datetime"
   ]
  },
  {
   "cell_type": "code",
   "execution_count": 2,
   "id": "9274982b",
   "metadata": {},
   "outputs": [],
   "source": [
    "brands = pd.read_csv('data/brands.csv')\n",
    "receipt_items = pd.read_csv('data/receipt_items.csv')\n",
    "receipts = pd.read_csv('data/receipts.csv')\n",
    "users = pd.read_csv('data/users.csv')"
   ]
  },
  {
   "cell_type": "markdown",
   "id": "aacdf5e9",
   "metadata": {},
   "source": [
    "### The percentage of receipt items with missing barcode is a metric that can help stakeholders in understanding data quality. In this case, we notice that 37.56% of the data records do not have a barcode associated. Consequently, it is difficult to connect these items to a brand for further analysis from the perspective of brands purchased."
   ]
  },
  {
   "cell_type": "code",
   "execution_count": 3,
   "id": "693f2aa3",
   "metadata": {},
   "outputs": [
    {
     "name": "stdout",
     "output_type": "stream",
     "text": [
      "The percentage of receipt items with missing barcode is 37.56 %\n"
     ]
    }
   ],
   "source": [
    "print(\"The percentage of receipt items with missing barcode is {} %\".format(round(sum(receipt_items['BARCODE'].isna())/len(receipt_items['BARCODE']) * 100, 2)))"
   ]
  },
  {
   "cell_type": "markdown",
   "id": "53998b7a",
   "metadata": {},
   "source": [
    "### The top 5 states that have generated the highest amount of total expenditure through item purchases with receipts registered on the app are NY, FL, PR, TX and SC. Business stakeholders can use this information to target customer acquistion, customer retention and organize advertising/marketing campaigns in these states to drive the growth of the Fetch app in these geographic markets."
   ]
  },
  {
   "cell_type": "code",
   "execution_count": 4,
   "id": "4b2089bf",
   "metadata": {},
   "outputs": [
    {
     "name": "stdout",
     "output_type": "stream",
     "text": [
      "The top 5 states that generate the most amount of total expenditure registered on the app are: \n"
     ]
    },
    {
     "data": {
      "text/html": [
       "<div>\n",
       "<style scoped>\n",
       "    .dataframe tbody tr th:only-of-type {\n",
       "        vertical-align: middle;\n",
       "    }\n",
       "\n",
       "    .dataframe tbody tr th {\n",
       "        vertical-align: top;\n",
       "    }\n",
       "\n",
       "    .dataframe thead th {\n",
       "        text-align: right;\n",
       "    }\n",
       "</style>\n",
       "<table border=\"1\" class=\"dataframe\">\n",
       "  <thead>\n",
       "    <tr style=\"text-align: right;\">\n",
       "      <th></th>\n",
       "      <th>STATE</th>\n",
       "      <th>TOTAL_SPENT</th>\n",
       "    </tr>\n",
       "  </thead>\n",
       "  <tbody>\n",
       "    <tr>\n",
       "      <th>19</th>\n",
       "      <td>NY</td>\n",
       "      <td>806201.78</td>\n",
       "    </tr>\n",
       "    <tr>\n",
       "      <th>4</th>\n",
       "      <td>FL</td>\n",
       "      <td>321593.69</td>\n",
       "    </tr>\n",
       "    <tr>\n",
       "      <th>22</th>\n",
       "      <td>PR</td>\n",
       "      <td>220709.63</td>\n",
       "    </tr>\n",
       "    <tr>\n",
       "      <th>26</th>\n",
       "      <td>TX</td>\n",
       "      <td>142631.62</td>\n",
       "    </tr>\n",
       "    <tr>\n",
       "      <th>24</th>\n",
       "      <td>SC</td>\n",
       "      <td>137234.21</td>\n",
       "    </tr>\n",
       "  </tbody>\n",
       "</table>\n",
       "</div>"
      ],
      "text/plain": [
       "   STATE  TOTAL_SPENT\n",
       "19    NY    806201.78\n",
       "4     FL    321593.69\n",
       "22    PR    220709.63\n",
       "26    TX    142631.62\n",
       "24    SC    137234.21"
      ]
     },
     "execution_count": 4,
     "metadata": {},
     "output_type": "execute_result"
    }
   ],
   "source": [
    "receipts_and_users = pd.merge(receipts, users, how = \"inner\", left_on = \"USER_ID\", right_on = \"ID\")\n",
    "res = receipts_and_users[[\"STATE\", \"TOTAL_SPENT\"]].groupby(\"STATE\").sum(\"TOTAL_SPENT\").reset_index()\n",
    "res = res.sort_values(\"TOTAL_SPENT\", ascending = False)\n",
    "print(\"The top 5 states that generate the most amount of total expenditure registered on the app are: \")\n",
    "res.head()"
   ]
  },
  {
   "cell_type": "markdown",
   "id": "439988df",
   "metadata": {},
   "source": [
    "### The significant increase in the growth of the usage of the app measured in terms of number of receipts registered on the app over time can be calculated and visualized to be presented by the business management as positive results to investors."
   ]
  },
  {
   "cell_type": "code",
   "execution_count": 5,
   "id": "e8bdaad5",
   "metadata": {},
   "outputs": [
    {
     "data": {
      "text/plain": [
       "<AxesSubplot: xlabel='Time in (Year, Month)', ylabel='Count of Receipts'>"
      ]
     },
     "execution_count": 5,
     "metadata": {},
     "output_type": "execute_result"
    },
    {
     "data": {
      "image/png": "[encoded data removed]",
      "text/plain": [
       "<Figure size 640x480 with 1 Axes>"
      ]
     },
     "metadata": {},
     "output_type": "display_data"
    }
   ],
   "source": [
    "def extract_year(val):\n",
    "    return datetime.datetime.strptime(val[:10], \"%Y-%m-%d\").year\n",
    "\n",
    "def extract_month(val):\n",
    "    return datetime.datetime.strptime(val[:10], \"%Y-%m-%d\").month\n",
    "\n",
    "receipts.loc[:, 'CREATE_YEAR'] = receipts['CREATE_DATE'].apply(extract_year)\n",
    "receipts.loc[:, 'CREATE_MONTH'] = receipts['CREATE_DATE'].apply(extract_month)\n",
    "receipts_data = receipts[receipts['CREATE_YEAR'] <= 2022]\n",
    "df = receipts_data[['CREATE_YEAR', 'CREATE_MONTH', 'ID']].groupby(['CREATE_YEAR', 'CREATE_MONTH']).count()\n",
    "df.plot(xlabel = \"Time in (Year, Month)\", ylabel = \"Count of Receipts\")"
   ]
  },
  {
   "cell_type": "code",
   "execution_count": null,
   "id": "984360df",
   "metadata": {},
   "outputs": [],
   "source": []
  },
  {
   "cell_type": "code",
   "execution_count": null,
   "id": "c7e1cd57",
   "metadata": {},
   "outputs": [],
   "source": []
  }
 ],
 "metadata": {
  "kernelspec": {
   "display_name": "Python 3 (ipykernel)",
   "language": "python",
   "name": "python3"
  },
  "language_info": {
   "codemirror_mode": {
    "name": "ipython",
    "version": 3
   },
   "file_extension": ".py",
   "mimetype": "text/x-python",
   "name": "python",
   "nbconvert_exporter": "python",
   "pygments_lexer": "ipython3",
   "version": "3.9.13"
  }
 },
 "nbformat": 4,
 "nbformat_minor": 5
}
